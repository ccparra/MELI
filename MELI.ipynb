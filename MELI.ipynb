{
 "cells": [
  {
   "cell_type": "code",
   "execution_count": 70,
   "metadata": {},
   "outputs": [],
   "source": [
    "import pandas as pd\n",
    "import numpy as np\n",
    "from requests import requests\n",
    "from src.libs.utils.functions import *"
   ]
  },
  {
   "cell_type": "code",
   "execution_count": 71,
   "metadata": {},
   "outputs": [
    {
     "name": "stdout",
     "output_type": "stream",
     "text": [
      "[{'default_currency_id': 'COP', 'id': 'MCO', 'name': 'Colombia'}]\n"
     ]
    }
   ],
   "source": [
    "countries_req=requests.get('https://api.mercadolibre.com/sites')\n",
    "countries=countries_req.json()\n",
    "country_selected=filter_list_of_dicts_by_string_in_key(list_of_dicts=countries,key_name='name',string_value='Col')\n",
    "print(country_selected)"
   ]
  },
  {
   "cell_type": "code",
   "execution_count": 72,
   "metadata": {},
   "outputs": [
    {
     "name": "stdout",
     "output_type": "stream",
     "text": [
      "[{'id': 'MCO1051', 'name': 'Celulares y Teléfonos'}]\n"
     ]
    }
   ],
   "source": [
    "country_id=country_selected[0].get('id')\n",
    "cats = requests.get(f'https://api.mercadolibre.com/sites/{country_id}/categories')\n",
    "categorias=cats.json()\n",
    "cat_selected=filter_list_of_dicts_by_string_in_key(list_of_dicts=categorias,key_name='name',string_value='Cel')\n",
    "print(cat_selected)"
   ]
  },
  {
   "cell_type": "code",
   "execution_count": 73,
   "metadata": {},
   "outputs": [],
   "source": [
    "cat_id = cat_selected[0].get('id')\n",
    "offset = range(0, 951, 50)\n",
    "df_items=pd.DataFrame()\n",
    "for i in offset:\n",
    "    url = f'https://api.mercadolibre.com/sites/MCO/search?category={cat_id}&offset={i}'\n",
    "    itms = requests.get(url)\n",
    "    items_tmp=itms.json()\n",
    "    df_items=pd.concat([df_items,pd.DataFrame(items_tmp.get('results'))],axis=0,ignore_index=True)"
   ]
  },
  {
   "cell_type": "code",
   "execution_count": 74,
   "metadata": {},
   "outputs": [
    {
     "data": {
      "text/plain": [
       "Index(['id', 'title', 'condition', 'thumbnail_id', 'catalog_product_id',\n",
       "       'listing_type_id', 'permalink', 'buying_mode', 'site_id', 'category_id',\n",
       "       'domain_id', 'thumbnail', 'currency_id', 'order_backend', 'price',\n",
       "       'original_price', 'sale_price', 'sold_quantity', 'available_quantity',\n",
       "       'official_store_id', 'use_thumbnail_id', 'accepts_mercadopago', 'tags',\n",
       "       'shipping', 'stop_time', 'seller', 'seller_address', 'address',\n",
       "       'attributes', 'installments', 'winner_item_id', 'catalog_listing',\n",
       "       'discounts', 'promotions', 'inventory_id', 'official_store_name',\n",
       "       'differential_pricing', 'variation_filters', 'variations_data'],\n",
       "      dtype='object')"
      ]
     },
     "execution_count": 74,
     "metadata": {},
     "output_type": "execute_result"
    }
   ],
   "source": [
    "df_items.columns"
   ]
  },
  {
   "cell_type": "code",
   "execution_count": 75,
   "metadata": {},
   "outputs": [],
   "source": [
    "df_items=expand_dict_column(df_items,'seller')"
   ]
  },
  {
   "cell_type": "code",
   "execution_count": 63,
   "metadata": {},
   "outputs": [
    {
     "data": {
      "text/plain": [
       "['price', 'original_price', 'sale_price']"
      ]
     },
     "execution_count": 63,
     "metadata": {},
     "output_type": "execute_result"
    }
   ],
   "source": [
    "[c for c in df_items.columns if 'price' in c]"
   ]
  },
  {
   "cell_type": "code",
   "execution_count": 64,
   "metadata": {},
   "outputs": [
    {
     "data": {
      "text/plain": [
       "['seller_address',\n",
       " 'seller_reputation.level_id',\n",
       " 'seller_reputation.power_seller_status',\n",
       " 'seller_reputation.transactions.canceled',\n",
       " 'seller_reputation.transactions.completed',\n",
       " 'seller_reputation.transactions.period',\n",
       " 'seller_reputation.transactions.ratings.negative',\n",
       " 'seller_reputation.transactions.ratings.neutral',\n",
       " 'seller_reputation.transactions.ratings.positive',\n",
       " 'seller_reputation.transactions.total',\n",
       " 'seller_reputation.metrics.sales.period',\n",
       " 'seller_reputation.metrics.sales.completed',\n",
       " 'seller_reputation.metrics.claims.period',\n",
       " 'seller_reputation.metrics.claims.rate',\n",
       " 'seller_reputation.metrics.claims.value',\n",
       " 'seller_reputation.metrics.delayed_handling_time.period',\n",
       " 'seller_reputation.metrics.delayed_handling_time.rate',\n",
       " 'seller_reputation.metrics.delayed_handling_time.value',\n",
       " 'seller_reputation.metrics.cancellations.period',\n",
       " 'seller_reputation.metrics.cancellations.rate',\n",
       " 'seller_reputation.metrics.cancellations.value',\n",
       " 'seller_reputation.metrics.claims.excluded.real_value',\n",
       " 'seller_reputation.metrics.claims.excluded.real_rate',\n",
       " 'seller_reputation.metrics.delayed_handling_time.excluded.real_value',\n",
       " 'seller_reputation.metrics.delayed_handling_time.excluded.real_rate',\n",
       " 'seller_reputation.metrics.cancellations.excluded.real_value',\n",
       " 'seller_reputation.metrics.cancellations.excluded.real_rate',\n",
       " 'eshop.seller']"
      ]
     },
     "execution_count": 64,
     "metadata": {},
     "output_type": "execute_result"
    }
   ],
   "source": [
    "[c for c in df_items.columns if 'seller' in c]"
   ]
  },
  {
   "cell_type": "code",
   "execution_count": 37,
   "metadata": {},
   "outputs": [],
   "source": [
    "sellers_cat=np.unique(get_list_values_by_key_of_dict([c for c in df_items.seller],key_name='id'))\n",
    "df_reputation=pd.DataFrame()\n",
    "for i in sellers_cat:\n",
    "    url = f'https://api.mercadolibre.com/users/{i}'\n",
    "    rep = requests.get(url)\n",
    "    reputation_tmp = rep.json()\n",
    "    if isinstance(reputation_tmp, dict):\n",
    "        df_reputation = pd.concat([df_reputation, pd.DataFrame([reputation_tmp])], axis=0)\n",
    "    elif isinstance(reputation_tmp, list):\n",
    "        df_reputation = pd.concat([df_reputation, pd.DataFrame(reputation_tmp)], axis=0)\n",
    "df_reputation.reset_index(drop=True,inplace=True)        "
   ]
  },
  {
   "cell_type": "code",
   "execution_count": 38,
   "metadata": {},
   "outputs": [
    {
     "data": {
      "text/html": [
       "<div>\n",
       "<style scoped>\n",
       "    .dataframe tbody tr th:only-of-type {\n",
       "        vertical-align: middle;\n",
       "    }\n",
       "\n",
       "    .dataframe tbody tr th {\n",
       "        vertical-align: top;\n",
       "    }\n",
       "\n",
       "    .dataframe thead th {\n",
       "        text-align: right;\n",
       "    }\n",
       "</style>\n",
       "<table border=\"1\" class=\"dataframe\">\n",
       "  <thead>\n",
       "    <tr style=\"text-align: right;\">\n",
       "      <th></th>\n",
       "      <th>id</th>\n",
       "      <th>nickname</th>\n",
       "      <th>registration_date</th>\n",
       "      <th>country_id</th>\n",
       "      <th>address</th>\n",
       "      <th>user_type</th>\n",
       "      <th>tags</th>\n",
       "      <th>logo</th>\n",
       "      <th>points</th>\n",
       "      <th>site_id</th>\n",
       "      <th>permalink</th>\n",
       "      <th>seller_reputation</th>\n",
       "      <th>buyer_reputation</th>\n",
       "      <th>status</th>\n",
       "    </tr>\n",
       "  </thead>\n",
       "  <tbody>\n",
       "    <tr>\n",
       "      <th>0</th>\n",
       "      <td>531347</td>\n",
       "      <td>TRAYGO</td>\n",
       "      <td>2000-08-14T00:00:00.000-04:00</td>\n",
       "      <td>CO</td>\n",
       "      <td>{'city': 'Suba', 'state': 'CO-DC'}</td>\n",
       "      <td>normal</td>\n",
       "      <td>[normal, eshop, mshops]</td>\n",
       "      <td>None</td>\n",
       "      <td>3551</td>\n",
       "      <td>MCO</td>\n",
       "      <td>http://perfil.mercadolibre.com.co/TRAYGO</td>\n",
       "      <td>{'level_id': '5_green', 'power_seller_status':...</td>\n",
       "      <td>{'tags': []}</td>\n",
       "      <td>{'site_status': 'active'}</td>\n",
       "    </tr>\n",
       "    <tr>\n",
       "      <th>1</th>\n",
       "      <td>1841943</td>\n",
       "      <td>PRODUCTSTORE</td>\n",
       "      <td>2006-11-16T21:46:52.000-04:00</td>\n",
       "      <td>CO</td>\n",
       "      <td>{'city': 'Engativá', 'state': 'CO-DC'}</td>\n",
       "      <td>normal</td>\n",
       "      <td>[normal, mshops]</td>\n",
       "      <td>None</td>\n",
       "      <td>128</td>\n",
       "      <td>MCO</td>\n",
       "      <td>http://perfil.mercadolibre.com.co/PRODUCTSTORE</td>\n",
       "      <td>{'level_id': '5_green', 'power_seller_status':...</td>\n",
       "      <td>{'tags': []}</td>\n",
       "      <td>{'site_status': 'active'}</td>\n",
       "    </tr>\n",
       "    <tr>\n",
       "      <th>2</th>\n",
       "      <td>18998983</td>\n",
       "      <td>SERGIOJIME</td>\n",
       "      <td>2007-05-27T15:28:36.000-04:00</td>\n",
       "      <td>CO</td>\n",
       "      <td>{'city': 'Cartagena De Indias', 'state': 'CO-B...</td>\n",
       "      <td>normal</td>\n",
       "      <td>[normal, eshop, mshops]</td>\n",
       "      <td>None</td>\n",
       "      <td>392</td>\n",
       "      <td>MCO</td>\n",
       "      <td>http://perfil.mercadolibre.com.co/SERGIOJIME</td>\n",
       "      <td>{'level_id': '5_green', 'power_seller_status':...</td>\n",
       "      <td>{'tags': []}</td>\n",
       "      <td>{'site_status': 'active'}</td>\n",
       "    </tr>\n",
       "    <tr>\n",
       "      <th>3</th>\n",
       "      <td>21932236</td>\n",
       "      <td>SOFT PAWS</td>\n",
       "      <td>2010-01-06T05:54:47.000-04:00</td>\n",
       "      <td>CO</td>\n",
       "      <td>{'city': 'Usaquén', 'state': 'CO-DC'}</td>\n",
       "      <td>normal</td>\n",
       "      <td>[normal, eshop, mshops]</td>\n",
       "      <td>None</td>\n",
       "      <td>1017</td>\n",
       "      <td>MCO</td>\n",
       "      <td>http://perfil.mercadolibre.com.co/SOFT+PAWS</td>\n",
       "      <td>{'level_id': '4_light_green', 'power_seller_st...</td>\n",
       "      <td>{'tags': []}</td>\n",
       "      <td>{'site_status': 'active'}</td>\n",
       "    </tr>\n",
       "    <tr>\n",
       "      <th>4</th>\n",
       "      <td>22672010</td>\n",
       "      <td>TIENDACHICOLISTO</td>\n",
       "      <td>2010-01-20T12:39:06.000-04:00</td>\n",
       "      <td>CO</td>\n",
       "      <td>{'city': 'Teusaquillo', 'state': 'CO-DC'}</td>\n",
       "      <td>normal</td>\n",
       "      <td>[normal, mshops]</td>\n",
       "      <td>None</td>\n",
       "      <td>1413</td>\n",
       "      <td>MCO</td>\n",
       "      <td>http://perfil.mercadolibre.com.co/TIENDACHICOL...</td>\n",
       "      <td>{'level_id': '5_green', 'power_seller_status':...</td>\n",
       "      <td>{'tags': []}</td>\n",
       "      <td>{'site_status': 'active'}</td>\n",
       "    </tr>\n",
       "  </tbody>\n",
       "</table>\n",
       "</div>"
      ],
      "text/plain": [
       "         id          nickname              registration_date country_id   \n",
       "0    531347            TRAYGO  2000-08-14T00:00:00.000-04:00         CO  \\\n",
       "1   1841943      PRODUCTSTORE  2006-11-16T21:46:52.000-04:00         CO   \n",
       "2  18998983        SERGIOJIME  2007-05-27T15:28:36.000-04:00         CO   \n",
       "3  21932236         SOFT PAWS  2010-01-06T05:54:47.000-04:00         CO   \n",
       "4  22672010  TIENDACHICOLISTO  2010-01-20T12:39:06.000-04:00         CO   \n",
       "\n",
       "                                             address user_type   \n",
       "0                 {'city': 'Suba', 'state': 'CO-DC'}    normal  \\\n",
       "1             {'city': 'Engativá', 'state': 'CO-DC'}    normal   \n",
       "2  {'city': 'Cartagena De Indias', 'state': 'CO-B...    normal   \n",
       "3              {'city': 'Usaquén', 'state': 'CO-DC'}    normal   \n",
       "4          {'city': 'Teusaquillo', 'state': 'CO-DC'}    normal   \n",
       "\n",
       "                      tags  logo  points site_id   \n",
       "0  [normal, eshop, mshops]  None    3551     MCO  \\\n",
       "1         [normal, mshops]  None     128     MCO   \n",
       "2  [normal, eshop, mshops]  None     392     MCO   \n",
       "3  [normal, eshop, mshops]  None    1017     MCO   \n",
       "4         [normal, mshops]  None    1413     MCO   \n",
       "\n",
       "                                           permalink   \n",
       "0           http://perfil.mercadolibre.com.co/TRAYGO  \\\n",
       "1     http://perfil.mercadolibre.com.co/PRODUCTSTORE   \n",
       "2       http://perfil.mercadolibre.com.co/SERGIOJIME   \n",
       "3        http://perfil.mercadolibre.com.co/SOFT+PAWS   \n",
       "4  http://perfil.mercadolibre.com.co/TIENDACHICOL...   \n",
       "\n",
       "                                   seller_reputation buyer_reputation   \n",
       "0  {'level_id': '5_green', 'power_seller_status':...     {'tags': []}  \\\n",
       "1  {'level_id': '5_green', 'power_seller_status':...     {'tags': []}   \n",
       "2  {'level_id': '5_green', 'power_seller_status':...     {'tags': []}   \n",
       "3  {'level_id': '4_light_green', 'power_seller_st...     {'tags': []}   \n",
       "4  {'level_id': '5_green', 'power_seller_status':...     {'tags': []}   \n",
       "\n",
       "                      status  \n",
       "0  {'site_status': 'active'}  \n",
       "1  {'site_status': 'active'}  \n",
       "2  {'site_status': 'active'}  \n",
       "3  {'site_status': 'active'}  \n",
       "4  {'site_status': 'active'}  "
      ]
     },
     "execution_count": 38,
     "metadata": {},
     "output_type": "execute_result"
    }
   ],
   "source": [
    "df_reputation.head()"
   ]
  },
  {
   "cell_type": "code",
   "execution_count": 39,
   "metadata": {},
   "outputs": [
    {
     "data": {
      "text/plain": [
       "Index(['id', 'nickname', 'registration_date', 'country_id', 'address',\n",
       "       'user_type', 'tags', 'logo', 'points', 'site_id', 'permalink',\n",
       "       'seller_reputation', 'buyer_reputation', 'status'],\n",
       "      dtype='object')"
      ]
     },
     "execution_count": 39,
     "metadata": {},
     "output_type": "execute_result"
    }
   ],
   "source": [
    "df_reputation.columns"
   ]
  },
  {
   "cell_type": "code",
   "execution_count": 40,
   "metadata": {},
   "outputs": [],
   "source": [
    "df_reputation=(\n",
    "    df_reputation\n",
    "    .reindex(columns=['id', 'nickname','registration_date','tags','points','seller_reputation','status'])\n",
    ")"
   ]
  },
  {
   "cell_type": "code",
   "execution_count": 41,
   "metadata": {},
   "outputs": [],
   "source": [
    "df_reputation=expand_dict_column(df_reputation,'seller_reputation')\n",
    "df_reputation=expand_dict_column(df_reputation,'status')"
   ]
  },
  {
   "cell_type": "code",
   "execution_count": 42,
   "metadata": {},
   "outputs": [
    {
     "data": {
      "text/html": [
       "<div>\n",
       "<style scoped>\n",
       "    .dataframe tbody tr th:only-of-type {\n",
       "        vertical-align: middle;\n",
       "    }\n",
       "\n",
       "    .dataframe tbody tr th {\n",
       "        vertical-align: top;\n",
       "    }\n",
       "\n",
       "    .dataframe thead th {\n",
       "        text-align: right;\n",
       "    }\n",
       "</style>\n",
       "<table border=\"1\" class=\"dataframe\">\n",
       "  <thead>\n",
       "    <tr style=\"text-align: right;\">\n",
       "      <th></th>\n",
       "      <th>id</th>\n",
       "      <th>nickname</th>\n",
       "      <th>registration_date</th>\n",
       "      <th>tags</th>\n",
       "      <th>points</th>\n",
       "      <th>level_id</th>\n",
       "      <th>power_seller_status</th>\n",
       "      <th>transactions.canceled</th>\n",
       "      <th>transactions.completed</th>\n",
       "      <th>transactions.period</th>\n",
       "      <th>transactions.ratings.negative</th>\n",
       "      <th>transactions.ratings.neutral</th>\n",
       "      <th>transactions.ratings.positive</th>\n",
       "      <th>transactions.total</th>\n",
       "      <th>real_level</th>\n",
       "      <th>protection_end_date</th>\n",
       "      <th>site_status</th>\n",
       "    </tr>\n",
       "  </thead>\n",
       "  <tbody>\n",
       "    <tr>\n",
       "      <th>0</th>\n",
       "      <td>531347</td>\n",
       "      <td>TRAYGO</td>\n",
       "      <td>2000-08-14T00:00:00.000-04:00</td>\n",
       "      <td>[normal, eshop, mshops]</td>\n",
       "      <td>3551</td>\n",
       "      <td>5_green</td>\n",
       "      <td>platinum</td>\n",
       "      <td>232</td>\n",
       "      <td>9557</td>\n",
       "      <td>historic</td>\n",
       "      <td>0.01</td>\n",
       "      <td>0.01</td>\n",
       "      <td>0.98</td>\n",
       "      <td>9789</td>\n",
       "      <td>NaN</td>\n",
       "      <td>NaN</td>\n",
       "      <td>active</td>\n",
       "    </tr>\n",
       "    <tr>\n",
       "      <th>1</th>\n",
       "      <td>1841943</td>\n",
       "      <td>PRODUCTSTORE</td>\n",
       "      <td>2006-11-16T21:46:52.000-04:00</td>\n",
       "      <td>[normal, mshops]</td>\n",
       "      <td>128</td>\n",
       "      <td>5_green</td>\n",
       "      <td>silver</td>\n",
       "      <td>47</td>\n",
       "      <td>2193</td>\n",
       "      <td>historic</td>\n",
       "      <td>0.03</td>\n",
       "      <td>0.00</td>\n",
       "      <td>0.97</td>\n",
       "      <td>2240</td>\n",
       "      <td>NaN</td>\n",
       "      <td>NaN</td>\n",
       "      <td>active</td>\n",
       "    </tr>\n",
       "    <tr>\n",
       "      <th>2</th>\n",
       "      <td>18998983</td>\n",
       "      <td>SERGIOJIME</td>\n",
       "      <td>2007-05-27T15:28:36.000-04:00</td>\n",
       "      <td>[normal, eshop, mshops]</td>\n",
       "      <td>392</td>\n",
       "      <td>5_green</td>\n",
       "      <td>platinum</td>\n",
       "      <td>844</td>\n",
       "      <td>14332</td>\n",
       "      <td>historic</td>\n",
       "      <td>0.09</td>\n",
       "      <td>0.02</td>\n",
       "      <td>0.89</td>\n",
       "      <td>15176</td>\n",
       "      <td>NaN</td>\n",
       "      <td>NaN</td>\n",
       "      <td>active</td>\n",
       "    </tr>\n",
       "    <tr>\n",
       "      <th>3</th>\n",
       "      <td>21932236</td>\n",
       "      <td>SOFT PAWS</td>\n",
       "      <td>2010-01-06T05:54:47.000-04:00</td>\n",
       "      <td>[normal, eshop, mshops]</td>\n",
       "      <td>1017</td>\n",
       "      <td>4_light_green</td>\n",
       "      <td>None</td>\n",
       "      <td>28</td>\n",
       "      <td>490</td>\n",
       "      <td>historic</td>\n",
       "      <td>0.03</td>\n",
       "      <td>0.01</td>\n",
       "      <td>0.96</td>\n",
       "      <td>518</td>\n",
       "      <td>yellow</td>\n",
       "      <td>2023-09-09T12:26:43.000-04:00</td>\n",
       "      <td>active</td>\n",
       "    </tr>\n",
       "    <tr>\n",
       "      <th>4</th>\n",
       "      <td>22672010</td>\n",
       "      <td>TIENDACHICOLISTO</td>\n",
       "      <td>2010-01-20T12:39:06.000-04:00</td>\n",
       "      <td>[normal, mshops]</td>\n",
       "      <td>1413</td>\n",
       "      <td>5_green</td>\n",
       "      <td>platinum</td>\n",
       "      <td>231</td>\n",
       "      <td>6756</td>\n",
       "      <td>historic</td>\n",
       "      <td>0.05</td>\n",
       "      <td>0.03</td>\n",
       "      <td>0.92</td>\n",
       "      <td>6987</td>\n",
       "      <td>NaN</td>\n",
       "      <td>NaN</td>\n",
       "      <td>active</td>\n",
       "    </tr>\n",
       "  </tbody>\n",
       "</table>\n",
       "</div>"
      ],
      "text/plain": [
       "         id          nickname              registration_date   \n",
       "0    531347            TRAYGO  2000-08-14T00:00:00.000-04:00  \\\n",
       "1   1841943      PRODUCTSTORE  2006-11-16T21:46:52.000-04:00   \n",
       "2  18998983        SERGIOJIME  2007-05-27T15:28:36.000-04:00   \n",
       "3  21932236         SOFT PAWS  2010-01-06T05:54:47.000-04:00   \n",
       "4  22672010  TIENDACHICOLISTO  2010-01-20T12:39:06.000-04:00   \n",
       "\n",
       "                      tags  points       level_id power_seller_status   \n",
       "0  [normal, eshop, mshops]    3551        5_green            platinum  \\\n",
       "1         [normal, mshops]     128        5_green              silver   \n",
       "2  [normal, eshop, mshops]     392        5_green            platinum   \n",
       "3  [normal, eshop, mshops]    1017  4_light_green                None   \n",
       "4         [normal, mshops]    1413        5_green            platinum   \n",
       "\n",
       "   transactions.canceled  transactions.completed transactions.period   \n",
       "0                    232                    9557            historic  \\\n",
       "1                     47                    2193            historic   \n",
       "2                    844                   14332            historic   \n",
       "3                     28                     490            historic   \n",
       "4                    231                    6756            historic   \n",
       "\n",
       "   transactions.ratings.negative  transactions.ratings.neutral   \n",
       "0                           0.01                          0.01  \\\n",
       "1                           0.03                          0.00   \n",
       "2                           0.09                          0.02   \n",
       "3                           0.03                          0.01   \n",
       "4                           0.05                          0.03   \n",
       "\n",
       "   transactions.ratings.positive  transactions.total real_level   \n",
       "0                           0.98                9789        NaN  \\\n",
       "1                           0.97                2240        NaN   \n",
       "2                           0.89               15176        NaN   \n",
       "3                           0.96                 518     yellow   \n",
       "4                           0.92                6987        NaN   \n",
       "\n",
       "             protection_end_date site_status  \n",
       "0                            NaN      active  \n",
       "1                            NaN      active  \n",
       "2                            NaN      active  \n",
       "3  2023-09-09T12:26:43.000-04:00      active  \n",
       "4                            NaN      active  "
      ]
     },
     "execution_count": 42,
     "metadata": {},
     "output_type": "execute_result"
    }
   ],
   "source": [
    "df_reputation.head()"
   ]
  }
 ],
 "metadata": {
  "kernelspec": {
   "display_name": "base",
   "language": "python",
   "name": "python3"
  },
  "language_info": {
   "codemirror_mode": {
    "name": "ipython",
    "version": 3
   },
   "file_extension": ".py",
   "mimetype": "text/x-python",
   "name": "python",
   "nbconvert_exporter": "python",
   "pygments_lexer": "ipython3",
   "version": "3.9.13"
  },
  "orig_nbformat": 4
 },
 "nbformat": 4,
 "nbformat_minor": 2
}
