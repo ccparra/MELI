{
 "cells": [
  {
   "cell_type": "code",
   "execution_count": 1,
   "metadata": {},
   "outputs": [],
   "source": [
    "import pandas as pd\n",
    "import numpy as np\n",
    "import matplotlib.pyplot as plt\n",
    "import requests\n",
    "import json\n",
    "import joblib\n",
    "from src.libs.utils.functions import *"
   ]
  },
  {
   "cell_type": "code",
   "execution_count": 4,
   "metadata": {},
   "outputs": [
    {
     "data": {
      "text/plain": [
       "['MPY',\n",
       " 'MSV',\n",
       " 'MLM',\n",
       " 'MBO',\n",
       " 'MLA',\n",
       " 'MNI',\n",
       " 'MHN',\n",
       " 'MCU',\n",
       " 'MLU',\n",
       " 'MRD',\n",
       " 'MCO',\n",
       " 'MLC',\n",
       " 'MEC',\n",
       " 'MPE',\n",
       " 'MGT',\n",
       " 'MLB',\n",
       " 'MCR',\n",
       " 'MPA',\n",
       " 'MLV']"
      ]
     },
     "execution_count": 4,
     "metadata": {},
     "output_type": "execute_result"
    }
   ],
   "source": [
    "countries_req=requests.get('https://api.mercadolibre.com/sites')\n",
    "countries=countries_req.json()\n",
    "get_values_by_key(dictionary_list=countries,key_name='id')"
   ]
  },
  {
   "cell_type": "code",
   "execution_count": 31,
   "metadata": {},
   "outputs": [
    {
     "data": {
      "text/plain": [
       "[{'id': 'MLA5725', 'name': 'Accesorios para Vehículos'},\n",
       " {'id': 'MLA1512', 'name': 'Agro'},\n",
       " {'id': 'MLA1403', 'name': 'Alimentos y Bebidas'},\n",
       " {'id': 'MLA1071', 'name': 'Animales y Mascotas'},\n",
       " {'id': 'MLA1367', 'name': 'Antigüedades y Colecciones'},\n",
       " {'id': 'MLA1368', 'name': 'Arte, Librería y Mercería'},\n",
       " {'id': 'MLA1743', 'name': 'Autos, Motos y Otros'},\n",
       " {'id': 'MLA1384', 'name': 'Bebés'},\n",
       " {'id': 'MLA1246', 'name': 'Belleza y Cuidado Personal'},\n",
       " {'id': 'MLA1039', 'name': 'Cámaras y Accesorios'},\n",
       " {'id': 'MLA1051', 'name': 'Celulares y Teléfonos'},\n",
       " {'id': 'MLA1648', 'name': 'Computación'},\n",
       " {'id': 'MLA1144', 'name': 'Consolas y Videojuegos'},\n",
       " {'id': 'MLA1500', 'name': 'Construcción'},\n",
       " {'id': 'MLA1276', 'name': 'Deportes y Fitness'},\n",
       " {'id': 'MLA5726', 'name': 'Electrodomésticos y Aires Ac.'},\n",
       " {'id': 'MLA1000', 'name': 'Electrónica, Audio y Video'},\n",
       " {'id': 'MLA2547', 'name': 'Entradas para Eventos'},\n",
       " {'id': 'MLA407134', 'name': 'Herramientas'},\n",
       " {'id': 'MLA1574', 'name': 'Hogar, Muebles y Jardín'},\n",
       " {'id': 'MLA1499', 'name': 'Industrias y Oficinas'},\n",
       " {'id': 'MLA1459', 'name': 'Inmuebles'},\n",
       " {'id': 'MLA1182', 'name': 'Instrumentos Musicales'},\n",
       " {'id': 'MLA3937', 'name': 'Joyas y Relojes'},\n",
       " {'id': 'MLA1132', 'name': 'Juegos y Juguetes'},\n",
       " {'id': 'MLA3025', 'name': 'Libros, Revistas y Comics'},\n",
       " {'id': 'MLA1168', 'name': 'Música, Películas y Series'},\n",
       " {'id': 'MLA1430', 'name': 'Ropa y Accesorios'},\n",
       " {'id': 'MLA409431', 'name': 'Salud y Equipamiento Médico'},\n",
       " {'id': 'MLA1540', 'name': 'Servicios'},\n",
       " {'id': 'MLA9304', 'name': 'Souvenirs, Cotillón y Fiestas'},\n",
       " {'id': 'MLA1953', 'name': 'Otras categorías'}]"
      ]
     },
     "execution_count": 31,
     "metadata": {},
     "output_type": "execute_result"
    }
   ],
   "source": [
    "cats = requests.get('https://api.mercadolibre.com/sites/MLA/categories')\n",
    "categorias=cats.json()\n",
    "categorias"
   ]
  },
  {
   "cell_type": "code",
   "execution_count": 6,
   "metadata": {},
   "outputs": [],
   "source": [
    "cat_id = 'MLA1000'\n",
    "offset = 50\n",
    "url = f'https://api.mercadolibre.com/sites/MLA/search?category={cat_id}&offset={offset}'\n",
    "itm = requests.get(url)\n",
    "items=itm.json()"
   ]
  },
  {
   "cell_type": "code",
   "execution_count": 10,
   "metadata": {},
   "outputs": [
    {
     "data": {
      "text/plain": [
       "<Response [404]>"
      ]
     },
     "execution_count": 10,
     "metadata": {},
     "output_type": "execute_result"
    }
   ],
   "source": [
    "requests.get('https://api.mercadolibre.com/sites/MLA/users/')"
   ]
  }
 ],
 "metadata": {
  "kernelspec": {
   "display_name": "base",
   "language": "python",
   "name": "python3"
  },
  "language_info": {
   "codemirror_mode": {
    "name": "ipython",
    "version": 3
   },
   "file_extension": ".py",
   "mimetype": "text/x-python",
   "name": "python",
   "nbconvert_exporter": "python",
   "pygments_lexer": "ipython3",
   "version": "3.9.13"
  },
  "orig_nbformat": 4
 },
 "nbformat": 4,
 "nbformat_minor": 2
}
